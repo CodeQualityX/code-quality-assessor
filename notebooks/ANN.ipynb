{
 "cells": [
  {
   "metadata": {},
   "cell_type": "markdown",
   "source": "# **Artificial Neural Networks (ANN) Model**",
   "id": "c2d90544efb530b"
  },
  {
   "metadata": {},
   "cell_type": "markdown",
   "source": "# Importing Necessary Dependencies\n",
   "id": "2ad815a23e27c750"
  },
  {
   "metadata": {
    "ExecuteTime": {
     "end_time": "2025-06-01T18:55:55.614806Z",
     "start_time": "2025-06-01T18:55:55.584370Z"
    }
   },
   "cell_type": "code",
   "source": [
    "import pandas as pd\n",
    "import numpy as np\n",
    "import matplotlib.pyplot as plt\n",
    "from sklearn.preprocessing import StandardScaler, LabelEncoder\n",
    "from sklearn.metrics import classification_report\n",
    "from tensorflow.keras.models import Sequential\n",
    "from tensorflow.keras.layers import Input, Dense, Dropout\n",
    "from tensorflow.keras.utils import to_categorical\n",
    "from tensorflow.keras.callbacks import EarlyStopping\n"
   ],
   "id": "6a36d7197fe5f3d9",
   "outputs": [],
   "execution_count": 9
  },
  {
   "metadata": {},
   "cell_type": "markdown",
   "source": "# Load the dataset",
   "id": "f4e1abd3d0ec8292"
  },
  {
   "metadata": {
    "ExecuteTime": {
     "end_time": "2025-06-01T18:55:59.908635Z",
     "start_time": "2025-06-01T18:55:57.974313Z"
    }
   },
   "cell_type": "code",
   "source": [
    "# Step 1: Load data\n",
    "X_train = pd.read_parquet('../data/processed/X_train.parquet')\n",
    "X_test = pd.read_parquet('../data/processed/X_test.parquet')\n",
    "y_train = pd.read_parquet('../data/processed/y_train.parquet').squeeze()\n",
    "y_test = pd.read_parquet('../data/processed/y_test.parquet').squeeze()"
   ],
   "id": "a8c5241758999232",
   "outputs": [],
   "execution_count": 10
  },
  {
   "metadata": {},
   "cell_type": "markdown",
   "source": "# Drop non-numeric columns",
   "id": "94ea18e1f6224d3"
  },
  {
   "metadata": {
    "ExecuteTime": {
     "end_time": "2025-06-01T18:56:02.260540Z",
     "start_time": "2025-06-01T18:56:02.234218Z"
    }
   },
   "cell_type": "code",
   "source": [
    "# Step 2: Drop non-numeric columns\n",
    "X_train_numeric = X_train.select_dtypes(include=[np.number])\n",
    "X_test_numeric = X_test.select_dtypes(include=[np.number])\n"
   ],
   "id": "19c47f8bfc977fa5",
   "outputs": [],
   "execution_count": 11
  },
  {
   "metadata": {},
   "cell_type": "markdown",
   "source": "# Encode Data",
   "id": "43995ecea73a845d"
  },
  {
   "metadata": {
    "ExecuteTime": {
     "end_time": "2025-06-01T18:56:04.787365Z",
     "start_time": "2025-06-01T18:56:04.743580Z"
    }
   },
   "cell_type": "code",
   "source": [
    "# Step 3: Encode target\n",
    "label_encoder = LabelEncoder()\n",
    "y_train_enc = label_encoder.fit_transform(y_train)\n",
    "y_test_enc = label_encoder.transform(y_test)\n",
    "\n",
    "# One-hot encoding for categorical targets\n",
    "y_train_cat = to_categorical(y_train_enc)\n",
    "y_test_cat = to_categorical(y_test_enc)"
   ],
   "id": "736081da963aaba9",
   "outputs": [],
   "execution_count": 12
  },
  {
   "metadata": {},
   "cell_type": "markdown",
   "source": "# Scale numeric features",
   "id": "8cea7e48c00de106"
  },
  {
   "metadata": {
    "ExecuteTime": {
     "end_time": "2025-06-01T18:56:07.486930Z",
     "start_time": "2025-06-01T18:56:07.429726Z"
    }
   },
   "cell_type": "code",
   "source": [
    "# Step 4: Scale numeric features\n",
    "scaler = StandardScaler()\n",
    "X_train_scaled = scaler.fit_transform(X_train_numeric)\n",
    "X_test_scaled = scaler.transform(X_test_numeric)"
   ],
   "id": "9e65cc3e5c6ffd76",
   "outputs": [],
   "execution_count": 13
  },
  {
   "metadata": {},
   "cell_type": "markdown",
   "source": "# Build ANN",
   "id": "5a73dfa4dca7696b"
  },
  {
   "metadata": {
    "ExecuteTime": {
     "end_time": "2025-06-01T18:56:10.507698Z",
     "start_time": "2025-06-01T18:56:10.403437Z"
    }
   },
   "cell_type": "code",
   "source": [
    "# Step 5: Build ANN\n",
    "model = Sequential()\n",
    "model.add(Input(shape=(X_train_scaled.shape[1],)))\n",
    "model.add(Dense(64, activation='relu'))\n",
    "model.add(Dropout(0.3))\n",
    "model.add(Dense(32, activation='relu'))\n",
    "model.add(Dropout(0.1))\n",
    "model.add(Dense(y_train_cat.shape[1], activation='softmax'))"
   ],
   "id": "41a8dfb8e3c24bd3",
   "outputs": [],
   "execution_count": 14
  },
  {
   "metadata": {},
   "cell_type": "markdown",
   "source": "# Compile model",
   "id": "a377c2756c427b10"
  },
  {
   "metadata": {
    "ExecuteTime": {
     "end_time": "2025-06-01T18:56:12.779737Z",
     "start_time": "2025-06-01T18:56:12.768999Z"
    }
   },
   "cell_type": "code",
   "source": [
    "# Step 6: Compile model\n",
    "model.compile(loss='categorical_crossentropy', optimizer='adam', metrics=['accuracy'])"
   ],
   "id": "a8be68cfdc74f76",
   "outputs": [],
   "execution_count": 15
  },
  {
   "metadata": {},
   "cell_type": "markdown",
   "source": "# Train model with early stopping",
   "id": "1648bd78c40d8697"
  },
  {
   "metadata": {
    "ExecuteTime": {
     "end_time": "2025-06-01T18:57:23.694503Z",
     "start_time": "2025-06-01T18:56:16.265473Z"
    }
   },
   "cell_type": "code",
   "source": [
    "# Step 7: Train model with early stopping\n",
    "early_stop = EarlyStopping(monitor='val_loss', patience=5, restore_best_weights=True)\n",
    "history = model.fit(\n",
    "    X_train_scaled,\n",
    "    y_train_cat,\n",
    "    validation_split=0.2,\n",
    "    epochs=50,\n",
    "    batch_size=32,\n",
    "    callbacks=[early_stop],\n",
    "    verbose=1\n",
    ")\n"
   ],
   "id": "227ea615972b2f2c",
   "outputs": [
    {
     "name": "stdout",
     "output_type": "stream",
     "text": [
      "Epoch 1/50\n",
      "\u001B[1m5172/5172\u001B[0m \u001B[32m━━━━━━━━━━━━━━━━━━━━\u001B[0m\u001B[37m\u001B[0m \u001B[1m4s\u001B[0m 764us/step - accuracy: 0.7974 - loss: 0.4439 - val_accuracy: 0.8187 - val_loss: 0.4023\n",
      "Epoch 2/50\n",
      "\u001B[1m5172/5172\u001B[0m \u001B[32m━━━━━━━━━━━━━━━━━━━━\u001B[0m\u001B[37m\u001B[0m \u001B[1m4s\u001B[0m 683us/step - accuracy: 0.8164 - loss: 0.4082 - val_accuracy: 0.8198 - val_loss: 0.3984\n",
      "Epoch 3/50\n",
      "\u001B[1m5172/5172\u001B[0m \u001B[32m━━━━━━━━━━━━━━━━━━━━\u001B[0m\u001B[37m\u001B[0m \u001B[1m4s\u001B[0m 732us/step - accuracy: 0.8168 - loss: 0.4060 - val_accuracy: 0.8209 - val_loss: 0.3970\n",
      "Epoch 4/50\n",
      "\u001B[1m5172/5172\u001B[0m \u001B[32m━━━━━━━━━━━━━━━━━━━━\u001B[0m\u001B[37m\u001B[0m \u001B[1m4s\u001B[0m 738us/step - accuracy: 0.8195 - loss: 0.4023 - val_accuracy: 0.8223 - val_loss: 0.3946\n",
      "Epoch 5/50\n",
      "\u001B[1m5172/5172\u001B[0m \u001B[32m━━━━━━━━━━━━━━━━━━━━\u001B[0m\u001B[37m\u001B[0m \u001B[1m4s\u001B[0m 704us/step - accuracy: 0.8192 - loss: 0.4013 - val_accuracy: 0.8223 - val_loss: 0.3952\n",
      "Epoch 6/50\n",
      "\u001B[1m5172/5172\u001B[0m \u001B[32m━━━━━━━━━━━━━━━━━━━━\u001B[0m\u001B[37m\u001B[0m \u001B[1m4s\u001B[0m 705us/step - accuracy: 0.8213 - loss: 0.3988 - val_accuracy: 0.8236 - val_loss: 0.3946\n",
      "Epoch 7/50\n",
      "\u001B[1m5172/5172\u001B[0m \u001B[32m━━━━━━━━━━━━━━━━━━━━\u001B[0m\u001B[37m\u001B[0m \u001B[1m4s\u001B[0m 783us/step - accuracy: 0.8211 - loss: 0.3981 - val_accuracy: 0.8248 - val_loss: 0.3940\n",
      "Epoch 8/50\n",
      "\u001B[1m5172/5172\u001B[0m \u001B[32m━━━━━━━━━━━━━━━━━━━━\u001B[0m\u001B[37m\u001B[0m \u001B[1m4s\u001B[0m 734us/step - accuracy: 0.8225 - loss: 0.3994 - val_accuracy: 0.8228 - val_loss: 0.3934\n",
      "Epoch 9/50\n",
      "\u001B[1m5172/5172\u001B[0m \u001B[32m━━━━━━━━━━━━━━━━━━━━\u001B[0m\u001B[37m\u001B[0m \u001B[1m4s\u001B[0m 730us/step - accuracy: 0.8213 - loss: 0.3989 - val_accuracy: 0.8229 - val_loss: 0.3925\n",
      "Epoch 10/50\n",
      "\u001B[1m5172/5172\u001B[0m \u001B[32m━━━━━━━━━━━━━━━━━━━━\u001B[0m\u001B[37m\u001B[0m \u001B[1m4s\u001B[0m 749us/step - accuracy: 0.8218 - loss: 0.3982 - val_accuracy: 0.8248 - val_loss: 0.3926\n",
      "Epoch 11/50\n",
      "\u001B[1m5172/5172\u001B[0m \u001B[32m━━━━━━━━━━━━━━━━━━━━\u001B[0m\u001B[37m\u001B[0m \u001B[1m4s\u001B[0m 704us/step - accuracy: 0.8210 - loss: 0.3985 - val_accuracy: 0.8245 - val_loss: 0.3923\n",
      "Epoch 12/50\n",
      "\u001B[1m5172/5172\u001B[0m \u001B[32m━━━━━━━━━━━━━━━━━━━━\u001B[0m\u001B[37m\u001B[0m \u001B[1m4s\u001B[0m 714us/step - accuracy: 0.8209 - loss: 0.3998 - val_accuracy: 0.8242 - val_loss: 0.3914\n",
      "Epoch 13/50\n",
      "\u001B[1m5172/5172\u001B[0m \u001B[32m━━━━━━━━━━━━━━━━━━━━\u001B[0m\u001B[37m\u001B[0m \u001B[1m4s\u001B[0m 705us/step - accuracy: 0.8223 - loss: 0.3955 - val_accuracy: 0.8246 - val_loss: 0.3908\n",
      "Epoch 14/50\n",
      "\u001B[1m5172/5172\u001B[0m \u001B[32m━━━━━━━━━━━━━━━━━━━━\u001B[0m\u001B[37m\u001B[0m \u001B[1m4s\u001B[0m 689us/step - accuracy: 0.8228 - loss: 0.3963 - val_accuracy: 0.8239 - val_loss: 0.3918\n",
      "Epoch 15/50\n",
      "\u001B[1m5172/5172\u001B[0m \u001B[32m━━━━━━━━━━━━━━━━━━━━\u001B[0m\u001B[37m\u001B[0m \u001B[1m4s\u001B[0m 685us/step - accuracy: 0.8238 - loss: 0.3954 - val_accuracy: 0.8246 - val_loss: 0.3909\n",
      "Epoch 16/50\n",
      "\u001B[1m5172/5172\u001B[0m \u001B[32m━━━━━━━━━━━━━━━━━━━━\u001B[0m\u001B[37m\u001B[0m \u001B[1m4s\u001B[0m 685us/step - accuracy: 0.8235 - loss: 0.3961 - val_accuracy: 0.8246 - val_loss: 0.3914\n",
      "Epoch 17/50\n",
      "\u001B[1m5172/5172\u001B[0m \u001B[32m━━━━━━━━━━━━━━━━━━━━\u001B[0m\u001B[37m\u001B[0m \u001B[1m4s\u001B[0m 691us/step - accuracy: 0.8241 - loss: 0.3939 - val_accuracy: 0.8253 - val_loss: 0.3938\n",
      "Epoch 18/50\n",
      "\u001B[1m5172/5172\u001B[0m \u001B[32m━━━━━━━━━━━━━━━━━━━━\u001B[0m\u001B[37m\u001B[0m \u001B[1m4s\u001B[0m 678us/step - accuracy: 0.8239 - loss: 0.3939 - val_accuracy: 0.8238 - val_loss: 0.3911\n"
     ]
    }
   ],
   "execution_count": 16
  },
  {
   "metadata": {},
   "cell_type": "markdown",
   "source": "# Predict on test set",
   "id": "fc9b7e808d3f2e7c"
  },
  {
   "metadata": {
    "ExecuteTime": {
     "end_time": "2025-06-01T18:57:37.889456Z",
     "start_time": "2025-06-01T18:57:37.183472Z"
    }
   },
   "cell_type": "code",
   "source": [
    "# Step 8: Predict on test set\n",
    "y_pred_probs = model.predict(X_test_scaled)\n",
    "y_pred_classes = np.argmax(y_pred_probs, axis=1)"
   ],
   "id": "dcfa8b8c9009cac2",
   "outputs": [
    {
     "name": "stdout",
     "output_type": "stream",
     "text": [
      "\u001B[1m1617/1617\u001B[0m \u001B[32m━━━━━━━━━━━━━━━━━━━━\u001B[0m\u001B[37m\u001B[0m \u001B[1m0s\u001B[0m 288us/step\n"
     ]
    }
   ],
   "execution_count": 17
  },
  {
   "metadata": {},
   "cell_type": "markdown",
   "source": "# Classification report",
   "id": "fe12cad52dbccfa"
  },
  {
   "metadata": {
    "ExecuteTime": {
     "end_time": "2025-06-01T18:57:40.633046Z",
     "start_time": "2025-06-01T18:57:40.605184Z"
    }
   },
   "cell_type": "code",
   "source": [
    "# Step 9: Classification report\n",
    "print(classification_report(y_test_enc, y_pred_classes, target_names=label_encoder.classes_))"
   ],
   "id": "945ebbb4d70e22c",
   "outputs": [
    {
     "name": "stdout",
     "output_type": "stream",
     "text": [
      "              precision    recall  f1-score   support\n",
      "\n",
      "         bad       0.83      0.85      0.84     28577\n",
      "        good       0.81      0.79      0.80     23143\n",
      "\n",
      "    accuracy                           0.82     51720\n",
      "   macro avg       0.82      0.82      0.82     51720\n",
      "weighted avg       0.82      0.82      0.82     51720\n",
      "\n"
     ]
    }
   ],
   "execution_count": 18
  },
  {
   "metadata": {},
   "cell_type": "markdown",
   "source": "# Plot learning curve",
   "id": "28c97b4c8952b614"
  },
  {
   "metadata": {
    "ExecuteTime": {
     "end_time": "2025-06-01T18:57:44.869400Z",
     "start_time": "2025-06-01T18:57:44.756158Z"
    }
   },
   "cell_type": "code",
   "source": [
    "# Step 10: Plot learning curve\n",
    "plt.figure(figsize=(10, 6))\n",
    "plt.plot(history.history['accuracy'], label='Training Accuracy')\n",
    "plt.plot(history.history['val_accuracy'], label='Validation Accuracy')\n",
    "plt.plot(history.history['loss'], label='Training Loss')\n",
    "plt.plot(history.history['val_loss'], label='Validation Loss')\n",
    "plt.title('ANN Learning Curve')\n",
    "plt.xlabel('Epochs')\n",
    "plt.ylabel('Value')\n",
    "plt.legend()\n",
    "plt.grid(True)\n",
    "plt.tight_layout()\n",
    "plt.show()\n"
   ],
   "id": "b8e7012e36773f1d",
   "outputs": [
    {
     "data": {
      "text/plain": [
       "<Figure size 1000x600 with 1 Axes>"
      ],
      "image/png": "[encoded data removed]"
     },
     "metadata": {},
     "output_type": "display_data"
    }
   ],
   "execution_count": 19
  }
 ],
 "metadata": {
  "kernelspec": {
   "display_name": "Python 3",
   "language": "python",
   "name": "python3"
  },
  "language_info": {
   "codemirror_mode": {
    "name": "ipython",
    "version": 2
   },
   "file_extension": ".py",
   "mimetype": "text/x-python",
   "name": "python",
   "nbconvert_exporter": "python",
   "pygments_lexer": "ipython2",
   "version": "2.7.6"
  }
 },
 "nbformat": 4,
 "nbformat_minor": 5
}
